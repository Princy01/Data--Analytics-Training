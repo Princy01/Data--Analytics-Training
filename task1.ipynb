{
 "cells": [
  {
   "cell_type": "code",
   "execution_count": 1,
   "id": "d27eefe7-7fb4-4cae-9fe3-1bca033ece14",
   "metadata": {},
   "outputs": [],
   "source": [
    "import numpy as np"
   ]
  },
  {
   "cell_type": "code",
   "execution_count": 2,
   "id": "363b043c-c578-44ee-b439-79f88154246c",
   "metadata": {},
   "outputs": [],
   "source": [
    "scores=np.array([[85,90,78],\n",
    "                 [92,88,95],\n",
    "                 [76,95,85],\n",
    "                 [90,85,92],\n",
    "                 [88,76,89]])"
   ]
  },
  {
   "cell_type": "code",
   "execution_count": 3,
   "id": "193c0f7e-75d5-4c86-a0eb-f66e8fce8d93",
   "metadata": {},
   "outputs": [
    {
     "name": "stdout",
     "output_type": "stream",
     "text": [
      "Mean score of maths= 86.2\n",
      "Mean score of science= 86.8\n",
      "Mean score of english= 87.8\n"
     ]
    }
   ],
   "source": [
    "#MEAN SCORES OF EACH SUBJECT\n",
    "meanmaths=np.mean(scores[: ,0])\n",
    "print(\"Mean score of maths=\",meanmaths)\n",
    "meanscience=np.mean(scores[: ,1])\n",
    "print(\"Mean score of science=\",meanscience)\n",
    "meanenglish=np.mean(scores[: ,2])\n",
    "print(\"Mean score of english=\",meanenglish)"
   ]
  },
  {
   "cell_type": "code",
   "execution_count": 4,
   "id": "8b5a304e-23b0-48a4-be5d-23e8224b4f73",
   "metadata": {},
   "outputs": [
    {
     "name": "stdout",
     "output_type": "stream",
     "text": [
      "Median score of maths= 88.0\n",
      "Median score of science= 88.0\n",
      "Median score of english= 89.0\n"
     ]
    }
   ],
   "source": [
    "#MEDIAN SCORES OF EACH SUBJECT\n",
    "medianmaths=np.median(scores[: ,0])\n",
    "print(\"Median score of maths=\",medianmaths)\n",
    "medianscience=np.median(scores[: ,1])\n",
    "print(\"Median score of science=\",medianscience)\n",
    "medianenglish=np.median(scores[: ,2])\n",
    "print(\"Median score of english=\",medianenglish)"
   ]
  },
  {
   "cell_type": "code",
   "execution_count": 5,
   "id": "fb231178-0ec8-4906-844b-fbe3c7bd356a",
   "metadata": {},
   "outputs": [
    {
     "name": "stdout",
     "output_type": "stream",
     "text": [
      "Minimum score in maths 76\n",
      "Minimum score in science 76\n",
      "Minimum score in english 78\n"
     ]
    }
   ],
   "source": [
    "#minimum scores in each subject\n",
    "min1=scores[: ,0].min()\n",
    "print(\"Minimum score in maths\",min1)\n",
    "min2=scores[: ,1].min()\n",
    "print(\"Minimum score in science\",min2)\n",
    "min3=scores[: ,2].min()\n",
    "print(\"Minimum score in english\",min3)"
   ]
  },
  {
   "cell_type": "code",
   "execution_count": 6,
   "id": "b094c113-6521-4e14-aed5-0ce411f125b3",
   "metadata": {},
   "outputs": [
    {
     "name": "stdout",
     "output_type": "stream",
     "text": [
      "Max score in maths 92\n",
      "Max score in science 95\n",
      "Max score in english 78\n"
     ]
    }
   ],
   "source": [
    "#maximum scores in each subject\n",
    "max1=scores[: ,0].max()\n",
    "print(\"Max score in maths\",max1)\n",
    "max2=scores[: ,1].max()\n",
    "print(\"Max score in science\",max2)\n",
    "max3=scores[: ,2].min()\n",
    "print(\"Max score in english\",max3)"
   ]
  },
  {
   "cell_type": "code",
   "execution_count": 7,
   "id": "d9797643-d282-430c-b7b1-f7b68a7bea3a",
   "metadata": {},
   "outputs": [
    {
     "name": "stdout",
     "output_type": "stream",
     "text": [
      "Sorted scores of maths [76 85 88 90 92]\n",
      "Sorted scores of science [76 85 88 90 95]\n",
      "Sorted scores of english [78 85 89 92 95]\n"
     ]
    }
   ],
   "source": [
    "#Sorted scores of each subject\n",
    "s1=np.sort(scores[: ,0])\n",
    "print(\"Sorted scores of maths\",s1)\n",
    "s2=np.sort(scores[: ,1])\n",
    "print(\"Sorted scores of science\",s2)\n",
    "s3=np.sort(scores[: ,2])\n",
    "print(\"Sorted scores of english\",s3)"
   ]
  },
  {
   "cell_type": "code",
   "execution_count": 13,
   "id": "0d1d22da-2922-49af-b8e1-64b4312bf842",
   "metadata": {},
   "outputs": [
    {
     "data": {
      "text/plain": [
       "array([[85, 90, 78],\n",
       "       [92, 88, 95],\n",
       "       [76, 95, 85],\n",
       "       [90, 85, 92],\n",
       "       [88, 76, 89]])"
      ]
     },
     "execution_count": 13,
     "metadata": {},
     "output_type": "execute_result"
    }
   ],
   "source": [
    "scores"
   ]
  },
  {
   "cell_type": "code",
   "execution_count": 12,
   "id": "a3afac6f-2297-4ca4-b095-32d850490e20",
   "metadata": {},
   "outputs": [
    {
     "name": "stdout",
     "output_type": "stream",
     "text": [
      "Total marks of Student  1\n",
      "253\n",
      "Total marks of Student  2\n",
      "275\n",
      "Total marks of Student  3\n",
      "256\n",
      "Total marks of Student  4\n",
      "267\n",
      "Total marks of Student  5\n",
      "253\n",
      "\n",
      "Maximum marks=  275\n"
     ]
    }
   ],
   "source": [
    "#sum of marks of all the subjects of each student and the maximum total marks\n",
    "lis = []\n",
    "for i in range(0,5):\n",
    "    sum1 = np.sum(scores[i,:])\n",
    "    lis.append(sum1)\n",
    "    \n",
    "for i in range(0,5):\n",
    "    print(\"Total marks of Student \",i+1)\n",
    "    print(lis[i])\n",
    "      \n",
    "\n",
    "print(\"\\nMaximum marks= \",int(max(lis)))"
   ]
  },
  {
   "cell_type": "code",
   "execution_count": 9,
   "id": "8e4f9b1a-fb33-4d60-9d56-9a86e8f3ae63",
   "metadata": {},
   "outputs": [
    {
     "name": "stdout",
     "output_type": "stream",
     "text": [
      "Transpose of the matrix is\n",
      " [[85 92 76 90 88]\n",
      " [90 88 95 85 76]\n",
      " [78 95 85 92 89]]\n"
     ]
    }
   ],
   "source": [
    "#Converting a 5x3 matrix to 3x5 matrix\n",
    "t=np.transpose(scores)\n",
    "print(\"Transpose of the matrix is\\n\",t)"
   ]
  },
  {
   "cell_type": "code",
   "execution_count": null,
   "id": "65f88ee9-06a4-41e6-8d26-d92eeb80bda3",
   "metadata": {},
   "outputs": [],
   "source": []
  }
 ],
 "metadata": {
  "kernelspec": {
   "display_name": "Python 3 (ipykernel)",
   "language": "python",
   "name": "python3"
  },
  "language_info": {
   "codemirror_mode": {
    "name": "ipython",
    "version": 3
   },
   "file_extension": ".py",
   "mimetype": "text/x-python",
   "name": "python",
   "nbconvert_exporter": "python",
   "pygments_lexer": "ipython3",
   "version": "3.10.12"
  }
 },
 "nbformat": 4,
 "nbformat_minor": 5
}
