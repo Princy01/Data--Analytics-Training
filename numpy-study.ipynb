{
 "cells": [
  {
   "cell_type": "code",
   "execution_count": 44,
   "id": "6c698955-9f71-463f-ace7-6de0c022f898",
   "metadata": {},
   "outputs": [
    {
     "name": "stdin",
     "output_type": "stream",
     "text": [
      "Enter the number:  2\n"
     ]
    }
   ],
   "source": [
    "num=int(input(\"Enter the number: \"))"
   ]
  },
  {
   "cell_type": "code",
   "execution_count": 18,
   "id": "9f79f72d-31b3-4dea-89ce-514e6cab3e2d",
   "metadata": {},
   "outputs": [
    {
     "name": "stdout",
     "output_type": "stream",
     "text": [
      "4\n"
     ]
    }
   ],
   "source": [
    "num*=num\n",
    "print(num)"
   ]
  },
  {
   "cell_type": "code",
   "execution_count": 19,
   "id": "ca2ca833-8931-462b-852c-a40a6b30a295",
   "metadata": {},
   "outputs": [
    {
     "name": "stdout",
     "output_type": "stream",
     "text": [
      "{'Name': ['Princy'], 'Age': [22], 'Course': ['MCA']}\n"
     ]
    }
   ],
   "source": [
    "#create a dictionary with your details and print\n",
    "dict={'Name':['Princy'],\n",
    "      'Age':[22],\n",
    "      'Course':['MCA']}\n",
    "print (dict)"
   ]
  },
  {
   "cell_type": "code",
   "execution_count": 20,
   "id": "5625a53b-fd37-433c-96d6-84a7533864ec",
   "metadata": {},
   "outputs": [],
   "source": [
    "import numpy as np  #np is the alias of numpy"
   ]
  },
  {
   "cell_type": "code",
   "execution_count": 21,
   "id": "86ffa428-3518-459f-8f0e-b4ed46bf85b4",
   "metadata": {},
   "outputs": [
    {
     "name": "stdout",
     "output_type": "stream",
     "text": [
      "[1, 2, 3, 4, 5, 6, 7, 8]\n"
     ]
    }
   ],
   "source": [
    "list=[1,2,3,4,5,6,7,8]  #declaration of list\n",
    "npArray=np.array(list)  #converting list to array\n",
    "print(list)"
   ]
  },
  {
   "cell_type": "code",
   "execution_count": 22,
   "id": "8da38239-947b-4437-9081-ef77608c4084",
   "metadata": {},
   "outputs": [
    {
     "name": "stdout",
     "output_type": "stream",
     "text": [
      "[1 2 3 4 5 6 7 8]\n"
     ]
    }
   ],
   "source": [
    "print(npArray)"
   ]
  },
  {
   "cell_type": "code",
   "execution_count": 23,
   "id": "8c80dcd4-744f-4da3-8471-2a97f968260a",
   "metadata": {},
   "outputs": [
    {
     "name": "stdout",
     "output_type": "stream",
     "text": [
      "int64\n"
     ]
    }
   ],
   "source": [
    "print(npArray.dtype)"
   ]
  },
  {
   "cell_type": "code",
   "execution_count": 24,
   "id": "51ec3a08-15e8-441b-8bbe-6c91ad385048",
   "metadata": {},
   "outputs": [
    {
     "name": "stdout",
     "output_type": "stream",
     "text": [
      "mean of array is:  4.5\n"
     ]
    }
   ],
   "source": [
    "#finding mean of np array\n",
    "mean=np.mean(npArray)\n",
    "print(\"mean of array is: \",mean)"
   ]
  },
  {
   "cell_type": "code",
   "execution_count": 25,
   "id": "4a20f5e3-0972-4ac8-9cb7-4d1cd7ec7951",
   "metadata": {},
   "outputs": [
    {
     "name": "stdout",
     "output_type": "stream",
     "text": [
      "median of array is:  4.5\n"
     ]
    }
   ],
   "source": [
    "#finding median of np array\n",
    "median=np.median(npArray)\n",
    "print(\"median of array is: \",median)"
   ]
  },
  {
   "cell_type": "code",
   "execution_count": 26,
   "id": "d2ac6f9d-fe70-4786-8d1c-099ad508b4b5",
   "metadata": {},
   "outputs": [
    {
     "name": "stdout",
     "output_type": "stream",
     "text": [
      "Uarr is  [12  6 34 78 21  9  2  5]\n"
     ]
    }
   ],
   "source": [
    "ulist=[12,6,34,78,21,9,2,5]\n",
    "uarr=np.array(ulist)\n",
    "print(\"Uarr is \",uarr)"
   ]
  },
  {
   "cell_type": "code",
   "execution_count": 27,
   "id": "2b2a2692-16c0-4cf1-85af-d736cead9ba4",
   "metadata": {},
   "outputs": [
    {
     "name": "stdout",
     "output_type": "stream",
     "text": [
      "sarr is  [ 2  5  6  9 12 21 34 78]\n"
     ]
    }
   ],
   "source": [
    "#SORTING\n",
    "sarr=np.sort(uarr)\n",
    "print(\"sarr is \",sarr)"
   ]
  },
  {
   "cell_type": "code",
   "execution_count": 28,
   "id": "4b3b3b35-7eb5-419e-9485-1ec3e0936f2b",
   "metadata": {},
   "outputs": [
    {
     "name": "stdout",
     "output_type": "stream",
     "text": [
      "[78 34 21 12  9  6  5  2]\n"
     ]
    }
   ],
   "source": [
    "#descending order\n",
    "dsarr=np.sort(uarr)[::-1]\n",
    "print(dsarr)"
   ]
  },
  {
   "cell_type": "code",
   "execution_count": 29,
   "id": "69b6f443-b97f-4030-90d8-942125ea7955",
   "metadata": {},
   "outputs": [
    {
     "name": "stdout",
     "output_type": "stream",
     "text": [
      "[[12  6 34 78]\n",
      " [21  9  2  5]]\n"
     ]
    }
   ],
   "source": [
    "#Conversion of 1D array to 2D\n",
    "uarr2d=np.reshape(uarr,(2,4))\n",
    "print(uarr2d)"
   ]
  },
  {
   "cell_type": "code",
   "execution_count": 30,
   "id": "994f3e74-a748-4eb6-a51a-76b972287fc6",
   "metadata": {},
   "outputs": [
    {
     "name": "stdout",
     "output_type": "stream",
     "text": [
      "[1 2 3 4 5 6]\n"
     ]
    }
   ],
   "source": [
    "direct=np.array([1,2,3,4,5,6])\n",
    "print(direct)"
   ]
  },
  {
   "cell_type": "code",
   "execution_count": 31,
   "id": "347604e9-875a-4952-af49-dbb48d9f69f9",
   "metadata": {},
   "outputs": [
    {
     "name": "stdout",
     "output_type": "stream",
     "text": [
      "4\n"
     ]
    }
   ],
   "source": [
    "print(direct[3])"
   ]
  },
  {
   "cell_type": "code",
   "execution_count": 32,
   "id": "6a81dfb9-cd05-4cbf-9b7a-60b6679725f7",
   "metadata": {},
   "outputs": [
    {
     "name": "stdout",
     "output_type": "stream",
     "text": [
      "[3 4 5 6]\n"
     ]
    }
   ],
   "source": [
    "print(direct[2:])"
   ]
  },
  {
   "cell_type": "code",
   "execution_count": 33,
   "id": "66065cfb-80bd-4240-bb27-0ef2bd35f873",
   "metadata": {},
   "outputs": [
    {
     "name": "stdout",
     "output_type": "stream",
     "text": [
      "[1 2 3 4]\n"
     ]
    }
   ],
   "source": [
    "print(direct[:4])"
   ]
  },
  {
   "cell_type": "code",
   "execution_count": 34,
   "id": "f93f6dde-3623-4946-8ff1-9e4e0e2c8d33",
   "metadata": {},
   "outputs": [
    {
     "name": "stdout",
     "output_type": "stream",
     "text": [
      "[[1 2 3]\n",
      " [4 5 6]\n",
      " [7 8 9]]\n"
     ]
    }
   ],
   "source": [
    "a2d=np.array([[1,2,3],[4,5,6],[7,8,9]])\n",
    "print(a2d)"
   ]
  },
  {
   "cell_type": "code",
   "execution_count": 35,
   "id": "c518a2f9-6e33-48d6-880b-9c8d8c6f43a2",
   "metadata": {},
   "outputs": [
    {
     "name": "stdout",
     "output_type": "stream",
     "text": [
      "[[9]\n",
      " [6]\n",
      " [3]]\n"
     ]
    }
   ],
   "source": [
    "print(a2d[::-1 ,3:1:-1])  "
   ]
  },
  {
   "cell_type": "code",
   "execution_count": 36,
   "id": "ef5a81b3-6453-4b4c-8c99-e61e21158451",
   "metadata": {},
   "outputs": [
    {
     "name": "stdout",
     "output_type": "stream",
     "text": [
      "[6 7 8 9]\n"
     ]
    }
   ],
   "source": [
    "print(a2d[a2d>5])"
   ]
  },
  {
   "cell_type": "code",
   "execution_count": 46,
   "id": "f8844b75-2ad5-430c-9a67-3c710177457e",
   "metadata": {},
   "outputs": [
    {
     "name": "stdout",
     "output_type": "stream",
     "text": [
      "[ 35  55  75  95 115]\n"
     ]
    }
   ],
   "source": [
    "s1=np.array([20,30,40,50,60])\n",
    "s2=np.array([15,25,35,45,55])\n",
    "sarr=np.add(s1,s2)\n",
    "print(sarr)"
   ]
  },
  {
   "cell_type": "code",
   "execution_count": 38,
   "id": "34e50a7f-b61c-4629-90b0-2e31f5a061b3",
   "metadata": {},
   "outputs": [
    {
     "name": "stdout",
     "output_type": "stream",
     "text": [
      "75.0\n"
     ]
    }
   ],
   "source": [
    "sarrMean=np.mean(sarr)\n",
    "print(sarrMean)"
   ]
  },
  {
   "cell_type": "code",
   "execution_count": 39,
   "id": "cbdeb8d1-8806-44b0-bac2-398a62b12850",
   "metadata": {},
   "outputs": [
    {
     "name": "stdout",
     "output_type": "stream",
     "text": [
      "35 115\n"
     ]
    }
   ],
   "source": [
    "min=sarr.min()\n",
    "max=sarr.max()\n",
    "print(min,max)"
   ]
  },
  {
   "cell_type": "code",
   "execution_count": 40,
   "id": "ae1b7643-bad0-47b1-b2b5-3f9e5c4d4c21",
   "metadata": {},
   "outputs": [
    {
     "name": "stdout",
     "output_type": "stream",
     "text": [
      "1\n"
     ]
    }
   ],
   "source": [
    "min2d=a2d.min()\n",
    "print(min2d)"
   ]
  },
  {
   "cell_type": "code",
   "execution_count": 41,
   "id": "3eb7bd88-e695-47e2-b1f4-38b54c0b990a",
   "metadata": {},
   "outputs": [
    {
     "name": "stdout",
     "output_type": "stream",
     "text": [
      "3\n"
     ]
    }
   ],
   "source": [
    "c=a2d[: ,2].min()\n",
    "print(c)"
   ]
  },
  {
   "cell_type": "code",
   "execution_count": 42,
   "id": "d407a3c2-74b5-48f9-8988-7ef660dbf139",
   "metadata": {},
   "outputs": [
    {
     "name": "stdout",
     "output_type": "stream",
     "text": [
      "4\n"
     ]
    }
   ],
   "source": [
    "r=a2d[1,:].min()\n",
    "print(r)"
   ]
  },
  {
   "cell_type": "code",
   "execution_count": 43,
   "id": "afb59c50-5769-48f4-b8ff-85f1e57273fa",
   "metadata": {},
   "outputs": [
    {
     "name": "stdout",
     "output_type": "stream",
     "text": [
      "[['a' 'c']\n",
      " ['1' '34']]\n"
     ]
    }
   ],
   "source": [
    "data=np.loadtxt('august.txt',dtype=str,usecols=(0,2))\n",
    "print(data)\n",
    "#val=[7,8,9]\n",
    "#np.savetxt('august.txt',val,delimiter=',')"
   ]
  },
  {
   "cell_type": "code",
   "execution_count": null,
   "id": "8972b667-b68a-41ea-aca3-e4d3fbc1c46e",
   "metadata": {},
   "outputs": [],
   "source": []
  }
 ],
 "metadata": {
  "kernelspec": {
   "display_name": "Python 3 (ipykernel)",
   "language": "python",
   "name": "python3"
  },
  "language_info": {
   "codemirror_mode": {
    "name": "ipython",
    "version": 3
   },
   "file_extension": ".py",
   "mimetype": "text/x-python",
   "name": "python",
   "nbconvert_exporter": "python",
   "pygments_lexer": "ipython3",
   "version": "3.10.12"
  }
 },
 "nbformat": 4,
 "nbformat_minor": 5
}
