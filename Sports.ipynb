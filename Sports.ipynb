{
 "cells": [
  {
   "cell_type": "markdown",
   "id": "a46d6576-377b-4c0a-b901-75baf70e1a73",
   "metadata": {},
   "source": [
    "# Heading 1\n",
    "## Heading 2\n",
    "### Heading 3\n",
    "**BOLD TEXT**\n",
    "\n",
    "*Italic Text*\n",
    "- Item 1\n",
    "- Item 2"
   ]
  },
  {
   "cell_type": "markdown",
   "id": "da3a0f20-a37b-43de-a810-15e46c79b23b",
   "metadata": {},
   "source": [
    "# To read from a zip file:\n",
    "- unzip the file\n",
    "- use import libraries which are necessary\n",
    "- read the file in a variable acc. to its type(eg: pd.read_csv('path of file')\n",
    "- convert the variable into dataframe using df=pd.DataFrame(var)\n",
    "- to check proper reading of file,use df.head() & df.tail() for validation.\n",
    "- extract the information (no. of columns,dtype of cols,no of rows,cols with null values) of data file.\n",
    "- specifically,get information of the null value count in each col using isnull()\n",
    "- if no. of count and entries are more,then calculate the % of null values present."
   ]
  },
  {
   "cell_type": "code",
   "execution_count": 1,
   "id": "3f80cc6c-c74a-4b38-b167-4c3e82f59a9a",
   "metadata": {},
   "outputs": [],
   "source": [
    "import pandas as pd\n",
    "import numpy as np"
   ]
  },
  {
   "cell_type": "code",
   "execution_count": 2,
   "id": "94f82d84-54be-4873-aedb-c2a5ac00db3d",
   "metadata": {},
   "outputs": [],
   "source": [
    "file=pd.read_csv('./internshipData/sportsdata.csv',low_memory=False)"
   ]
  },
  {
   "cell_type": "code",
   "execution_count": 3,
   "id": "5f0a4737-5aee-4856-8099-79e5cc27582f",
   "metadata": {},
   "outputs": [
    {
     "name": "stdout",
     "output_type": "stream",
     "text": [
      "\n",
      "Printing starting values:\n"
     ]
    },
    {
     "data": {
      "text/html": [
       "<div>\n",
       "<style scoped>\n",
       "    .dataframe tbody tr th:only-of-type {\n",
       "        vertical-align: middle;\n",
       "    }\n",
       "\n",
       "    .dataframe tbody tr th {\n",
       "        vertical-align: top;\n",
       "    }\n",
       "\n",
       "    .dataframe thead th {\n",
       "        text-align: right;\n",
       "    }\n",
       "</style>\n",
       "<table border=\"1\" class=\"dataframe\">\n",
       "  <thead>\n",
       "    <tr style=\"text-align: right;\">\n",
       "      <th></th>\n",
       "      <th>Date</th>\n",
       "      <th>GameID</th>\n",
       "      <th>Drive</th>\n",
       "      <th>qtr</th>\n",
       "      <th>down</th>\n",
       "      <th>time</th>\n",
       "      <th>TimeUnder</th>\n",
       "      <th>TimeSecs</th>\n",
       "      <th>PlayTimeDiff</th>\n",
       "      <th>SideofField</th>\n",
       "      <th>...</th>\n",
       "      <th>yacEPA</th>\n",
       "      <th>Home_WP_pre</th>\n",
       "      <th>Away_WP_pre</th>\n",
       "      <th>Home_WP_post</th>\n",
       "      <th>Away_WP_post</th>\n",
       "      <th>Win_Prob</th>\n",
       "      <th>WPA</th>\n",
       "      <th>airWPA</th>\n",
       "      <th>yacWPA</th>\n",
       "      <th>Season</th>\n",
       "    </tr>\n",
       "  </thead>\n",
       "  <tbody>\n",
       "    <tr>\n",
       "      <th>0</th>\n",
       "      <td>2009-09-10</td>\n",
       "      <td>2009091000</td>\n",
       "      <td>1</td>\n",
       "      <td>1</td>\n",
       "      <td>NaN</td>\n",
       "      <td>15:00</td>\n",
       "      <td>15</td>\n",
       "      <td>3600.0</td>\n",
       "      <td>0.0</td>\n",
       "      <td>TEN</td>\n",
       "      <td>...</td>\n",
       "      <td>NaN</td>\n",
       "      <td>0.485675</td>\n",
       "      <td>0.514325</td>\n",
       "      <td>0.546433</td>\n",
       "      <td>0.453567</td>\n",
       "      <td>0.485675</td>\n",
       "      <td>0.060758</td>\n",
       "      <td>NaN</td>\n",
       "      <td>NaN</td>\n",
       "      <td>2009</td>\n",
       "    </tr>\n",
       "    <tr>\n",
       "      <th>1</th>\n",
       "      <td>2009-09-10</td>\n",
       "      <td>2009091000</td>\n",
       "      <td>1</td>\n",
       "      <td>1</td>\n",
       "      <td>1.0</td>\n",
       "      <td>14:53</td>\n",
       "      <td>15</td>\n",
       "      <td>3593.0</td>\n",
       "      <td>7.0</td>\n",
       "      <td>PIT</td>\n",
       "      <td>...</td>\n",
       "      <td>1.146076</td>\n",
       "      <td>0.546433</td>\n",
       "      <td>0.453567</td>\n",
       "      <td>0.551088</td>\n",
       "      <td>0.448912</td>\n",
       "      <td>0.546433</td>\n",
       "      <td>0.004655</td>\n",
       "      <td>-0.032244</td>\n",
       "      <td>0.036899</td>\n",
       "      <td>2009</td>\n",
       "    </tr>\n",
       "    <tr>\n",
       "      <th>2</th>\n",
       "      <td>2009-09-10</td>\n",
       "      <td>2009091000</td>\n",
       "      <td>1</td>\n",
       "      <td>1</td>\n",
       "      <td>2.0</td>\n",
       "      <td>14:16</td>\n",
       "      <td>15</td>\n",
       "      <td>3556.0</td>\n",
       "      <td>37.0</td>\n",
       "      <td>PIT</td>\n",
       "      <td>...</td>\n",
       "      <td>NaN</td>\n",
       "      <td>0.551088</td>\n",
       "      <td>0.448912</td>\n",
       "      <td>0.510793</td>\n",
       "      <td>0.489207</td>\n",
       "      <td>0.551088</td>\n",
       "      <td>-0.040295</td>\n",
       "      <td>NaN</td>\n",
       "      <td>NaN</td>\n",
       "      <td>2009</td>\n",
       "    </tr>\n",
       "    <tr>\n",
       "      <th>3</th>\n",
       "      <td>2009-09-10</td>\n",
       "      <td>2009091000</td>\n",
       "      <td>1</td>\n",
       "      <td>1</td>\n",
       "      <td>3.0</td>\n",
       "      <td>13:35</td>\n",
       "      <td>14</td>\n",
       "      <td>3515.0</td>\n",
       "      <td>41.0</td>\n",
       "      <td>PIT</td>\n",
       "      <td>...</td>\n",
       "      <td>-5.031425</td>\n",
       "      <td>0.510793</td>\n",
       "      <td>0.489207</td>\n",
       "      <td>0.461217</td>\n",
       "      <td>0.538783</td>\n",
       "      <td>0.510793</td>\n",
       "      <td>-0.049576</td>\n",
       "      <td>0.106663</td>\n",
       "      <td>-0.156239</td>\n",
       "      <td>2009</td>\n",
       "    </tr>\n",
       "    <tr>\n",
       "      <th>4</th>\n",
       "      <td>2009-09-10</td>\n",
       "      <td>2009091000</td>\n",
       "      <td>1</td>\n",
       "      <td>1</td>\n",
       "      <td>4.0</td>\n",
       "      <td>13:27</td>\n",
       "      <td>14</td>\n",
       "      <td>3507.0</td>\n",
       "      <td>8.0</td>\n",
       "      <td>PIT</td>\n",
       "      <td>...</td>\n",
       "      <td>NaN</td>\n",
       "      <td>0.461217</td>\n",
       "      <td>0.538783</td>\n",
       "      <td>0.558929</td>\n",
       "      <td>0.441071</td>\n",
       "      <td>0.461217</td>\n",
       "      <td>0.097712</td>\n",
       "      <td>NaN</td>\n",
       "      <td>NaN</td>\n",
       "      <td>2009</td>\n",
       "    </tr>\n",
       "  </tbody>\n",
       "</table>\n",
       "<p>5 rows × 102 columns</p>\n",
       "</div>"
      ],
      "text/plain": [
       "         Date      GameID  Drive  qtr  down   time  TimeUnder  TimeSecs  \\\n",
       "0  2009-09-10  2009091000      1    1   NaN  15:00         15    3600.0   \n",
       "1  2009-09-10  2009091000      1    1   1.0  14:53         15    3593.0   \n",
       "2  2009-09-10  2009091000      1    1   2.0  14:16         15    3556.0   \n",
       "3  2009-09-10  2009091000      1    1   3.0  13:35         14    3515.0   \n",
       "4  2009-09-10  2009091000      1    1   4.0  13:27         14    3507.0   \n",
       "\n",
       "   PlayTimeDiff SideofField  ...    yacEPA  Home_WP_pre  Away_WP_pre  \\\n",
       "0           0.0         TEN  ...       NaN     0.485675     0.514325   \n",
       "1           7.0         PIT  ...  1.146076     0.546433     0.453567   \n",
       "2          37.0         PIT  ...       NaN     0.551088     0.448912   \n",
       "3          41.0         PIT  ... -5.031425     0.510793     0.489207   \n",
       "4           8.0         PIT  ...       NaN     0.461217     0.538783   \n",
       "\n",
       "   Home_WP_post  Away_WP_post  Win_Prob       WPA    airWPA    yacWPA  Season  \n",
       "0      0.546433      0.453567  0.485675  0.060758       NaN       NaN    2009  \n",
       "1      0.551088      0.448912  0.546433  0.004655 -0.032244  0.036899    2009  \n",
       "2      0.510793      0.489207  0.551088 -0.040295       NaN       NaN    2009  \n",
       "3      0.461217      0.538783  0.510793 -0.049576  0.106663 -0.156239    2009  \n",
       "4      0.558929      0.441071  0.461217  0.097712       NaN       NaN    2009  \n",
       "\n",
       "[5 rows x 102 columns]"
      ]
     },
     "execution_count": 3,
     "metadata": {},
     "output_type": "execute_result"
    }
   ],
   "source": [
    "print(\"\\nPrinting starting values:\")\n",
    "file.head()"
   ]
  },
  {
   "cell_type": "code",
   "execution_count": 4,
   "id": "28b94988-145d-4fad-8b06-1f86b9a25640",
   "metadata": {},
   "outputs": [
    {
     "name": "stdout",
     "output_type": "stream",
     "text": [
      "<class 'pandas.core.frame.DataFrame'>\n",
      "RangeIndex: 362447 entries, 0 to 362446\n",
      "Columns: 102 entries, Date to Season\n",
      "dtypes: float64(33), int64(31), object(38)\n",
      "memory usage: 282.1+ MB\n"
     ]
    }
   ],
   "source": [
    "file.info()"
   ]
  },
  {
   "cell_type": "code",
   "execution_count": 5,
   "id": "dba2bfeb-549e-4950-9a19-e6ff1c8c5eac",
   "metadata": {},
   "outputs": [
    {
     "name": "stdout",
     "output_type": "stream",
     "text": [
      "\n",
      "Printing end values:\n"
     ]
    },
    {
     "data": {
      "text/html": [
       "<div>\n",
       "<style scoped>\n",
       "    .dataframe tbody tr th:only-of-type {\n",
       "        vertical-align: middle;\n",
       "    }\n",
       "\n",
       "    .dataframe tbody tr th {\n",
       "        vertical-align: top;\n",
       "    }\n",
       "\n",
       "    .dataframe thead th {\n",
       "        text-align: right;\n",
       "    }\n",
       "</style>\n",
       "<table border=\"1\" class=\"dataframe\">\n",
       "  <thead>\n",
       "    <tr style=\"text-align: right;\">\n",
       "      <th></th>\n",
       "      <th>Date</th>\n",
       "      <th>GameID</th>\n",
       "      <th>Drive</th>\n",
       "      <th>qtr</th>\n",
       "      <th>down</th>\n",
       "      <th>time</th>\n",
       "      <th>TimeUnder</th>\n",
       "      <th>TimeSecs</th>\n",
       "      <th>PlayTimeDiff</th>\n",
       "      <th>SideofField</th>\n",
       "      <th>...</th>\n",
       "      <th>yacEPA</th>\n",
       "      <th>Home_WP_pre</th>\n",
       "      <th>Away_WP_pre</th>\n",
       "      <th>Home_WP_post</th>\n",
       "      <th>Away_WP_post</th>\n",
       "      <th>Win_Prob</th>\n",
       "      <th>WPA</th>\n",
       "      <th>airWPA</th>\n",
       "      <th>yacWPA</th>\n",
       "      <th>Season</th>\n",
       "    </tr>\n",
       "  </thead>\n",
       "  <tbody>\n",
       "    <tr>\n",
       "      <th>362442</th>\n",
       "      <td>2017-01-01</td>\n",
       "      <td>2017010102</td>\n",
       "      <td>20</td>\n",
       "      <td>4</td>\n",
       "      <td>1.0</td>\n",
       "      <td>00:22</td>\n",
       "      <td>1</td>\n",
       "      <td>22.0</td>\n",
       "      <td>6.0</td>\n",
       "      <td>GB</td>\n",
       "      <td>...</td>\n",
       "      <td>0.0</td>\n",
       "      <td>0.051901</td>\n",
       "      <td>0.948099</td>\n",
       "      <td>0.093435</td>\n",
       "      <td>0.906565</td>\n",
       "      <td>0.051901</td>\n",
       "      <td>0.041534</td>\n",
       "      <td>0.041534</td>\n",
       "      <td>0.0</td>\n",
       "      <td>2016</td>\n",
       "    </tr>\n",
       "    <tr>\n",
       "      <th>362443</th>\n",
       "      <td>2017-01-01</td>\n",
       "      <td>2017010102</td>\n",
       "      <td>20</td>\n",
       "      <td>4</td>\n",
       "      <td>NaN</td>\n",
       "      <td>00:13</td>\n",
       "      <td>1</td>\n",
       "      <td>13.0</td>\n",
       "      <td>9.0</td>\n",
       "      <td>GB</td>\n",
       "      <td>...</td>\n",
       "      <td>NaN</td>\n",
       "      <td>0.093435</td>\n",
       "      <td>0.906565</td>\n",
       "      <td>0.034069</td>\n",
       "      <td>0.965931</td>\n",
       "      <td>0.093435</td>\n",
       "      <td>-0.059366</td>\n",
       "      <td>NaN</td>\n",
       "      <td>NaN</td>\n",
       "      <td>2016</td>\n",
       "    </tr>\n",
       "    <tr>\n",
       "      <th>362444</th>\n",
       "      <td>2017-01-01</td>\n",
       "      <td>2017010102</td>\n",
       "      <td>21</td>\n",
       "      <td>4</td>\n",
       "      <td>NaN</td>\n",
       "      <td>00:13</td>\n",
       "      <td>1</td>\n",
       "      <td>13.0</td>\n",
       "      <td>0.0</td>\n",
       "      <td>DET</td>\n",
       "      <td>...</td>\n",
       "      <td>NaN</td>\n",
       "      <td>0.034069</td>\n",
       "      <td>0.965931</td>\n",
       "      <td>0.035708</td>\n",
       "      <td>0.964292</td>\n",
       "      <td>0.965931</td>\n",
       "      <td>-0.001639</td>\n",
       "      <td>NaN</td>\n",
       "      <td>NaN</td>\n",
       "      <td>2016</td>\n",
       "    </tr>\n",
       "    <tr>\n",
       "      <th>362445</th>\n",
       "      <td>2017-01-01</td>\n",
       "      <td>2017010102</td>\n",
       "      <td>21</td>\n",
       "      <td>4</td>\n",
       "      <td>1.0</td>\n",
       "      <td>00:12</td>\n",
       "      <td>1</td>\n",
       "      <td>12.0</td>\n",
       "      <td>1.0</td>\n",
       "      <td>DET</td>\n",
       "      <td>...</td>\n",
       "      <td>NaN</td>\n",
       "      <td>0.035708</td>\n",
       "      <td>0.964292</td>\n",
       "      <td>0.000000</td>\n",
       "      <td>1.000000</td>\n",
       "      <td>0.964292</td>\n",
       "      <td>0.035708</td>\n",
       "      <td>NaN</td>\n",
       "      <td>NaN</td>\n",
       "      <td>2016</td>\n",
       "    </tr>\n",
       "    <tr>\n",
       "      <th>362446</th>\n",
       "      <td>2017-01-01</td>\n",
       "      <td>2017010102</td>\n",
       "      <td>21</td>\n",
       "      <td>4</td>\n",
       "      <td>NaN</td>\n",
       "      <td>00:00</td>\n",
       "      <td>0</td>\n",
       "      <td>0.0</td>\n",
       "      <td>12.0</td>\n",
       "      <td>DET</td>\n",
       "      <td>...</td>\n",
       "      <td>NaN</td>\n",
       "      <td>0.000000</td>\n",
       "      <td>1.000000</td>\n",
       "      <td>0.000000</td>\n",
       "      <td>1.000000</td>\n",
       "      <td>0.934245</td>\n",
       "      <td>0.000000</td>\n",
       "      <td>NaN</td>\n",
       "      <td>NaN</td>\n",
       "      <td>2016</td>\n",
       "    </tr>\n",
       "  </tbody>\n",
       "</table>\n",
       "<p>5 rows × 102 columns</p>\n",
       "</div>"
      ],
      "text/plain": [
       "              Date      GameID  Drive  qtr  down   time  TimeUnder  TimeSecs  \\\n",
       "362442  2017-01-01  2017010102     20    4   1.0  00:22          1      22.0   \n",
       "362443  2017-01-01  2017010102     20    4   NaN  00:13          1      13.0   \n",
       "362444  2017-01-01  2017010102     21    4   NaN  00:13          1      13.0   \n",
       "362445  2017-01-01  2017010102     21    4   1.0  00:12          1      12.0   \n",
       "362446  2017-01-01  2017010102     21    4   NaN  00:00          0       0.0   \n",
       "\n",
       "        PlayTimeDiff SideofField  ...  yacEPA  Home_WP_pre  Away_WP_pre  \\\n",
       "362442           6.0          GB  ...     0.0     0.051901     0.948099   \n",
       "362443           9.0          GB  ...     NaN     0.093435     0.906565   \n",
       "362444           0.0         DET  ...     NaN     0.034069     0.965931   \n",
       "362445           1.0         DET  ...     NaN     0.035708     0.964292   \n",
       "362446          12.0         DET  ...     NaN     0.000000     1.000000   \n",
       "\n",
       "        Home_WP_post  Away_WP_post  Win_Prob       WPA    airWPA yacWPA  \\\n",
       "362442      0.093435      0.906565  0.051901  0.041534  0.041534    0.0   \n",
       "362443      0.034069      0.965931  0.093435 -0.059366       NaN    NaN   \n",
       "362444      0.035708      0.964292  0.965931 -0.001639       NaN    NaN   \n",
       "362445      0.000000      1.000000  0.964292  0.035708       NaN    NaN   \n",
       "362446      0.000000      1.000000  0.934245  0.000000       NaN    NaN   \n",
       "\n",
       "        Season  \n",
       "362442    2016  \n",
       "362443    2016  \n",
       "362444    2016  \n",
       "362445    2016  \n",
       "362446    2016  \n",
       "\n",
       "[5 rows x 102 columns]"
      ]
     },
     "execution_count": 5,
     "metadata": {},
     "output_type": "execute_result"
    }
   ],
   "source": [
    "print(\"\\nPrinting end values:\")\n",
    "file.tail()"
   ]
  },
  {
   "cell_type": "markdown",
   "id": "751c9076-5a0a-4a27-b8e2-d0f37d5197ed",
   "metadata": {},
   "source": [
    "\n",
    "- *file.shape : This returns a tuple representing the dimensions of the DataFrame. For example, (n_rows, n_columns).*\n",
    "- *np.prod(): This function computes the product of the elements in an array. Here, it calculates the product of the number of rows and columns in the DataFrame.*\n",
    "\n",
    "    *Purpose: This gives the total number of elements in the DataFrame.\n",
    "    Example: If file.shape is (100, 5), then totalValue would be 100 * 5 = 500.*"
   ]
  },
  {
   "cell_type": "code",
   "execution_count": 6,
   "id": "121968cb-6d0f-4a9d-a0c6-4dabdffb0220",
   "metadata": {},
   "outputs": [
    {
     "name": "stdout",
     "output_type": "stream",
     "text": [
      "No. of null values:  Date             0\n",
      "GameID           0\n",
      "Drive            0\n",
      "qtr              0\n",
      "down         54218\n",
      "             ...  \n",
      "Win_Prob     21993\n",
      "WPA           4817\n",
      "airWPA      220738\n",
      "yacWPA      220956\n",
      "Season           0\n",
      "Length: 102, dtype: int64\n",
      "% of missing values: 27.652267428200588 %\n"
     ]
    }
   ],
   "source": [
    "file.isnull()    #used to check null values\n",
    "null_Val=file.isnull().sum()  #returning total null values of each column\n",
    "print(\"No. of null values: \",null_Val)\n",
    "\n",
    "totalValue=np.prod(file.shape) #returning total no of values in the file\n",
    "totalNullValues=null_Val.sum()\n",
    "missing_percentage=(totalNullValues/totalValue)*100\n",
    "\n",
    "\n",
    "print(\"% of missing values:\",missing_percentage,\"%\")"
   ]
  },
  {
   "cell_type": "markdown",
   "id": "da5fb4c0-119d-4a7f-bb38-1793da447d1b",
   "metadata": {},
   "source": [
    "*When we were printing the total null values of all the cols,it wasn't showing all the cols,instead it was showing ... in between,so if we want to view the null values of all the cols,we print lesser cols(max 60)*"
   ]
  },
  {
   "cell_type": "code",
   "execution_count": 7,
   "id": "ab1ebebe-bd72-41a4-8e4c-b66f4ac20ee8",
   "metadata": {},
   "outputs": [
    {
     "name": "stdout",
     "output_type": "stream",
     "text": [
      "First 15 columns with null value count:\n"
     ]
    },
    {
     "data": {
      "text/plain": [
       "Date                0\n",
       "GameID              0\n",
       "Drive               0\n",
       "qtr                 0\n",
       "down            54218\n",
       "time              188\n",
       "TimeUnder           0\n",
       "TimeSecs          188\n",
       "PlayTimeDiff      374\n",
       "SideofField       450\n",
       "yrdln             723\n",
       "yrdline100        723\n",
       "ydstogo             0\n",
       "ydsnet              0\n",
       "GoalToGo          723\n",
       "dtype: int64"
      ]
     },
     "execution_count": 7,
     "metadata": {},
     "output_type": "execute_result"
    }
   ],
   "source": [
    "print(\"First 15 columns with null value count:\")   \n",
    "null_Val[:15]"
   ]
  },
  {
   "cell_type": "code",
   "execution_count": 8,
   "id": "b572c180-c8d7-4440-a98a-9d1d842cb835",
   "metadata": {},
   "outputs": [
    {
     "name": "stdout",
     "output_type": "stream",
     "text": [
      "Next 15 columns with null value count:\n"
     ]
    },
    {
     "data": {
      "text/plain": [
       "FirstDown         25597\n",
       "posteam           21979\n",
       "DefensiveTeam     21979\n",
       "desc                  2\n",
       "PlayAttempted         0\n",
       "Yards.Gained          0\n",
       "sp                    0\n",
       "Touchdown             0\n",
       "ExPointResult    353399\n",
       "TwoPointConv     361919\n",
       "DefTwoPoint      362433\n",
       "Safety                0\n",
       "Onsidekick            0\n",
       "PuntResult       342560\n",
       "PlayType              0\n",
       "dtype: int64"
      ]
     },
     "execution_count": 8,
     "metadata": {},
     "output_type": "execute_result"
    }
   ],
   "source": [
    "print(\"Next 15 columns with null value count:\")\n",
    "null_Val[15:30]"
   ]
  },
  {
   "cell_type": "code",
   "execution_count": 9,
   "id": "f0022c6b-b365-4fc3-8031-48476d843fec",
   "metadata": {},
   "outputs": [
    {
     "name": "stdout",
     "output_type": "stream",
     "text": [
      "Next 60 columns with null value count:\n"
     ]
    },
    {
     "data": {
      "text/plain": [
       "Passer                         213358\n",
       "Passer_ID                      210885\n",
       "PassAttempt                         0\n",
       "PassOutcome                    212823\n",
       "PassLength                     213772\n",
       "AirYards                            0\n",
       "YardsAfterCatch                     0\n",
       "QBHit                               0\n",
       "PassLocation                   213772\n",
       "InterceptionThrown                  0\n",
       "Interceptor                    358387\n",
       "Rusher                         255254\n",
       "Rusher_ID                      252165\n",
       "RushAttempt                         0\n",
       "RunLocation                    256187\n",
       "RunGap                         284605\n",
       "Receiver                       218647\n",
       "Receiver_ID                    222265\n",
       "Reception                           0\n",
       "ReturnResult                   346547\n",
       "Returner                       339535\n",
       "BlockingPlayer                 362341\n",
       "Tackler1                       147183\n",
       "Tackler2                       318045\n",
       "FieldGoalResult                354431\n",
       "FieldGoalDistance              354528\n",
       "Fumble                              0\n",
       "RecFumbTeam                    358513\n",
       "RecFumbPlayer                  358513\n",
       "Sack                                0\n",
       "Challenge.Replay                    0\n",
       "ChalReplayResult               359476\n",
       "Accepted.Penalty                    0\n",
       "PenalizedTeam                  336362\n",
       "PenaltyType                    347849\n",
       "PenalizedPlayer                337483\n",
       "Penalty.Yards                       0\n",
       "PosTeamScore                    23682\n",
       "DefTeamScore                    23682\n",
       "ScoreDiff                       21975\n",
       "AbsScoreDiff                    23682\n",
       "HomeTeam                            0\n",
       "AwayTeam                            0\n",
       "Timeout_Indicator                   0\n",
       "Timeout_Team                   347538\n",
       "posteam_timeouts_pre                0\n",
       "HomeTimeouts_Remaining_Pre          0\n",
       "AwayTimeouts_Remaining_Pre          0\n",
       "HomeTimeouts_Remaining_Post         0\n",
       "AwayTimeouts_Remaining_Post         0\n",
       "No_Score_Prob                     148\n",
       "Opp_Field_Goal_Prob               148\n",
       "Opp_Safety_Prob                   148\n",
       "Opp_Touchdown_Prob                148\n",
       "Field_Goal_Prob                   148\n",
       "Safety_Prob                       148\n",
       "Touchdown_Prob                    148\n",
       "ExPoint_Prob                        0\n",
       "TwoPoint_Prob                       0\n",
       "ExpPts                            148\n",
       "dtype: int64"
      ]
     },
     "execution_count": 9,
     "metadata": {},
     "output_type": "execute_result"
    }
   ],
   "source": [
    "print(\"Next 60 columns with null value count:\")   \n",
    "null_Val[30:90]"
   ]
  },
  {
   "cell_type": "code",
   "execution_count": 10,
   "id": "13f77ff8-55a7-4c8d-b8a8-6fbb4a23f18f",
   "metadata": {},
   "outputs": [
    {
     "name": "stdout",
     "output_type": "stream",
     "text": [
      "Remaining columns with null value count:\n"
     ]
    },
    {
     "data": {
      "text/plain": [
       "EPA                322\n",
       "airEPA          220641\n",
       "yacEPA          220734\n",
       "Home_WP_pre      21943\n",
       "Away_WP_pre      21943\n",
       "Home_WP_post     23360\n",
       "Away_WP_post     23360\n",
       "Win_Prob         21993\n",
       "WPA               4817\n",
       "airWPA          220738\n",
       "yacWPA          220956\n",
       "Season               0\n",
       "dtype: int64"
      ]
     },
     "execution_count": 10,
     "metadata": {},
     "output_type": "execute_result"
    }
   ],
   "source": [
    "print(\"Remaining columns with null value count:\")\n",
    "null_Val[90:]"
   ]
  },
  {
   "cell_type": "markdown",
   "id": "95058217-95bd-4a11-aec7-42c8fc7f92ba",
   "metadata": {},
   "source": [
    "- file.dropna() : this will delete rows by default\n",
    "- file.dropna(axis=1) : only the values of cols will be deleted"
   ]
  },
  {
   "cell_type": "code",
   "execution_count": 12,
   "id": "28f411bf-0098-4598-80af-9f08aad6aea2",
   "metadata": {},
   "outputs": [],
   "source": [
    "fileProcessed=file.dropna(axis=1)"
   ]
  },
  {
   "cell_type": "code",
   "execution_count": 13,
   "id": "ea0bdab1-a793-4307-a6b9-d5b8eb88cb82",
   "metadata": {},
   "outputs": [
    {
     "name": "stdout",
     "output_type": "stream",
     "text": [
      "No. of cols in original DF: 102\n",
      "No. of cols in processed DF: 37\n"
     ]
    }
   ],
   "source": [
    "print(\"No. of cols in original DF:\",file.shape[1])\n",
    "print(\"No. of cols in processed DF:\",fileProcessed.shape[1])"
   ]
  },
  {
   "cell_type": "code",
   "execution_count": null,
   "id": "6a7a54cb-90c1-4552-ab07-b028d8f51afa",
   "metadata": {},
   "outputs": [],
   "source": []
  }
 ],
 "metadata": {
  "kernelspec": {
   "display_name": "Python 3 (ipykernel)",
   "language": "python",
   "name": "python3"
  },
  "language_info": {
   "codemirror_mode": {
    "name": "ipython",
    "version": 3
   },
   "file_extension": ".py",
   "mimetype": "text/x-python",
   "name": "python",
   "nbconvert_exporter": "python",
   "pygments_lexer": "ipython3",
   "version": "3.10.12"
  }
 },
 "nbformat": 4,
 "nbformat_minor": 5
}
